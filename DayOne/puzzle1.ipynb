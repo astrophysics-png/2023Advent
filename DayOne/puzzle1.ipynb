{
 "cells": [
  {
   "cell_type": "markdown",
   "metadata": {},
   "source": [
    "## Programming Advent Calendar Day 1"
   ]
  },
  {
   "cell_type": "code",
   "execution_count": 26,
   "metadata": {},
   "outputs": [],
   "source": [
    "## Set up code to take the input from the input file \n",
    "inputFile = open(\"input.txt\", \"r\") ## Only READ the file. \n",
    "lines = inputFile.readlines() "
   ]
  },
  {
   "cell_type": "markdown",
   "metadata": {},
   "source": [
    "Notes: \n",
    " 1. Pick out line in input \n",
    " 2. Scan line for digits \n",
    "    - Select first digit\n",
    "    - Scan for second digit \n",
    "        If no second digit -> SecondDigit = FirstDigit \n",
    "    - Scan for third digit\n",
    "        If third digit -> SecondDigit = ThirdDigit \n",
    "    . . . Cont for remainder of line\n",
    "    - Do the same above but for a dictionary of words representing digits\n",
    "3. Concat FirstDigit + SecondDigit = Full number \n",
    "4. Add to sum\n",
    "   sum = sum + fullNumber\n"
   ]
  },
  {
   "cell_type": "code",
   "execution_count": 24,
   "metadata": {},
   "outputs": [
    {
     "data": {
      "text/plain": [
       "22"
      ]
     },
     "execution_count": 24,
     "metadata": {},
     "output_type": "execute_result"
    }
   ],
   "source": [
    "digits = {\n",
    "    \"zero\": 0,\n",
    "    \"one\" : 1, \n",
    "    \"two\" : 2, \n",
    "    \"three\": 3, \n",
    "    \"four\": 4,\n",
    "    \"five\": 5, \n",
    "    \"six\": 6,\n",
    "    \"seven\": 7, \n",
    "    \"eight\": 8, \n",
    "    \"nine\": 9 \n",
    "}\n",
    "\n",
    "def readLine(line): \n",
    "    #Define ASCII code bounds for character determination\n",
    "    upperBound = 48+9 \n",
    "    lowerBound = 48+0\n",
    "    #Create a number representing the digits contained in the line \n",
    "    numberToAdd = 0 \n",
    "    firstDigit = 0\n",
    "    firstPos = 0\n",
    "    secondDigit = 0\n",
    "    secondPos = 0\n",
    "    firstPass = True\n",
    "    for letter in range(0, len(line)): \n",
    "        checkPos = line[letter]\n",
    "        checkDigit = ord(line[letter])\n",
    "        #Following segment of code checks for if char is an integer\n",
    "        if checkDigit <= upperBound and checkDigit >= lowerBound: \n",
    "            if firstPass:\n",
    "                firstDigit = checkDigit - lowerBound\n",
    "                firstPos = letter\n",
    "                firstPass = False\n",
    "            else: \n",
    "                secondDigit = checkDigit - lowerBound\n",
    "                secondPos = letter\n",
    "        #Following segment of code checks for if char is a string\n",
    "        #Make a substring from current letter to end of string\n",
    "        truncLine = line[letter:len(line)]\n",
    "        for key in digits: \n",
    "            if truncLine.startswith(key):\n",
    "                if firstPass:\n",
    "                    firstDigit = digits[key]\n",
    "                    firstPass = False\n",
    "                else: \n",
    "                    secondDigit = digits[key]\n",
    "    if secondDigit == 0:\n",
    "        secondDigit = firstDigit\n",
    "    completeNumber = int(str(firstDigit) + str(secondDigit))\n",
    "    return (completeNumber)\n",
    "\n",
    "readLine(\"2\")"
   ]
  },
  {
   "cell_type": "markdown",
   "metadata": {},
   "source": [
    "Read the data through the readLine function to get all the numbers :) "
   ]
  },
  {
   "cell_type": "code",
   "execution_count": 27,
   "metadata": {},
   "outputs": [
    {
     "name": "stdout",
     "output_type": "stream",
     "text": [
      "54203\n"
     ]
    }
   ],
   "source": [
    "sum = 0\n",
    "for line in lines: \n",
    "    sum = sum + readLine(line)\n",
    "print(sum)"
   ]
  }
 ],
 "metadata": {
  "kernelspec": {
   "display_name": "Python 3",
   "language": "python",
   "name": "python3"
  },
  "language_info": {
   "codemirror_mode": {
    "name": "ipython",
    "version": 3
   },
   "file_extension": ".py",
   "mimetype": "text/x-python",
   "name": "python",
   "nbconvert_exporter": "python",
   "pygments_lexer": "ipython3",
   "version": "3.10.13"
  }
 },
 "nbformat": 4,
 "nbformat_minor": 2
}
