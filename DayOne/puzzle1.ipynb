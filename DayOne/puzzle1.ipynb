{
 "cells": [
  {
   "cell_type": "markdown",
   "metadata": {},
   "source": [
    "## Programming Advent Calendar Day 1"
   ]
  },
  {
   "cell_type": "code",
   "execution_count": 22,
   "metadata": {},
   "outputs": [],
   "source": [
    "## Set up code to take the input from the input file \n",
    "inputFile = open(\"input.txt\", \"r\") ## Only READ the file. \n",
    "lines = inputFile.readlines() "
   ]
  },
  {
   "cell_type": "markdown",
   "metadata": {},
   "source": [
    "Notes: \n",
    " 1. Pick out line in input \n",
    " 2. Scan line for digits \n",
    "    2A. Select first digit\n",
    "    2B. Scan for second digit \n",
    "        If no second digit -> SecondDigit = FirstDigit \n",
    "    2C. Scan for third digit\n",
    "        If third digit -> SecondDigit = ThirdDigit \n",
    "    . . . Cont for remainder of line\n",
    "3. Concat FirstDigit + SecondDigit = Full number \n",
    "4. Add to sum\n",
    "   sum = sum + fullNumber\n"
   ]
  },
  {
   "cell_type": "code",
   "execution_count": 27,
   "metadata": {},
   "outputs": [],
   "source": [
    "def readLine(line): \n",
    "    #Define ASCII code bounds for character determination\n",
    "    upperBound = 48+9 \n",
    "    lowerBound = 48+0\n",
    "    #Create a number representing the digits contained in the line \n",
    "    numberToAdd = 0 \n",
    "    firstDigit = 0\n",
    "    secondDigit = 0\n",
    "    firstPass = True\n",
    "    for letter in range(0, len(line)): \n",
    "        checkDigit = ord(line[letter])\n",
    "        if checkDigit <= upperBound and checkDigit >= lowerBound: \n",
    "            if firstPass:\n",
    "                firstDigit = checkDigit\n",
    "                firstPass = False\n",
    "            else: \n",
    "                secondDigit = checkDigit\n",
    "    if secondDigit == 0:\n",
    "        secondDigit = firstDigit\n",
    "    firstDigit = firstDigit - lowerBound\n",
    "    secondDigit = secondDigit - lowerBound\n",
    "    completeNumber = int(str(firstDigit) + str(secondDigit))\n",
    "    return (completeNumber)"
   ]
  },
  {
   "cell_type": "markdown",
   "metadata": {},
   "source": [
    "Read the data through the readLine function to get all the numbers :) "
   ]
  },
  {
   "cell_type": "code",
   "execution_count": 28,
   "metadata": {},
   "outputs": [
    {
     "name": "stdout",
     "output_type": "stream",
     "text": [
      "54667\n"
     ]
    }
   ],
   "source": [
    "sum = 0\n",
    "for line in lines: \n",
    "    sum = sum + readLine(line)\n",
    "print(sum)"
   ]
  }
 ],
 "metadata": {
  "kernelspec": {
   "display_name": "Python 3",
   "language": "python",
   "name": "python3"
  },
  "language_info": {
   "codemirror_mode": {
    "name": "ipython",
    "version": 3
   },
   "file_extension": ".py",
   "mimetype": "text/x-python",
   "name": "python",
   "nbconvert_exporter": "python",
   "pygments_lexer": "ipython3",
   "version": "3.10.13"
  }
 },
 "nbformat": 4,
 "nbformat_minor": 2
}
