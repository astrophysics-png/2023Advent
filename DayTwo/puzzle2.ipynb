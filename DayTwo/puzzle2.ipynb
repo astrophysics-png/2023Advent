{
 "cells": [
  {
   "cell_type": "markdown",
   "metadata": {},
   "source": [
    "## Advent of Code Day 2 Puzzles \n",
    "Notes: \n",
    "1. Go thru each line for each line calc the max number of blocks for ech color \n",
    "2. Assign max number to ID for each game 1-numLines (probably easiest done with a dictionary ngl)\n",
    "3. Go thru each game ID and determine if blocks could be pulled with input (12 red, 13 green, 14 blue)"
   ]
  },
  {
   "cell_type": "code",
   "execution_count": 12,
   "metadata": {},
   "outputs": [],
   "source": [
    "# Set up input and stuff \n",
    "inputFile = open(\"input.txt\", 'r')\n",
    "lines = inputFile.read().split('\\n')\n",
    "\n",
    "MAX_RED = 12\n",
    "RED = \"red\"\n",
    "MAX_GREEN = 13\n",
    "GREEN = \"green\"\n",
    "MAX_BLUE = 14\n",
    "BLUE = \"blue\""
   ]
  },
  {
   "cell_type": "code",
   "execution_count": 40,
   "metadata": {},
   "outputs": [],
   "source": [
    "def readLine(line): \n",
    "    maxes = {\"red\": 0, \"blue\": 0, \"green\": 0}\n",
    "    line = line[line.find(':')+2:len(line)]\n",
    "    gameTrials = line.split('; ')\n",
    "    for trial in gameTrials: \n",
    "        pulls = trial.split(',')\n",
    "        for color in pulls: \n",
    "            truncatedColor = color.replace(' ', '')\n",
    "            if RED in truncatedColor:\n",
    "                redValue = int(truncatedColor[:truncatedColor.find('r')])\n",
    "                if maxes[\"red\"] < redValue:\n",
    "                    maxes[\"red\"] = redValue\n",
    "            elif BLUE in truncatedColor: \n",
    "                blueValue = int(truncatedColor[:truncatedColor.find('b')])\n",
    "                if maxes[\"blue\"] < blueValue: \n",
    "                    maxes[\"blue\"] = blueValue\n",
    "            elif GREEN in truncatedColor: \n",
    "                greenValue = int(truncatedColor[:truncatedColor.find('g')])\n",
    "                if maxes[\"green\"] < greenValue:\n",
    "                    maxes[\"green\"] = greenValue\n",
    "            else: \n",
    "                print(\"pranked bro\")\n",
    "    return maxes\n"
   ]
  },
  {
   "cell_type": "markdown",
   "metadata": {},
   "source": [
    "Function to check if game is good "
   ]
  },
  {
   "cell_type": "code",
   "execution_count": 43,
   "metadata": {},
   "outputs": [],
   "source": [
    "def checkGame(game): \n",
    "    gameResults = readLine(game)\n",
    "    if gameResults[RED] > MAX_RED:\n",
    "        return False\n",
    "    elif gameResults[GREEN] > MAX_GREEN:\n",
    "        return False\n",
    "    elif gameResults[BLUE] > MAX_BLUE: \n",
    "        return False\n",
    "    return True "
   ]
  },
  {
   "cell_type": "markdown",
   "metadata": {},
   "source": [
    "Driver code to calculate the sum of all the games and stuff "
   ]
  },
  {
   "cell_type": "code",
   "execution_count": 45,
   "metadata": {},
   "outputs": [
    {
     "name": "stdout",
     "output_type": "stream",
     "text": [
      "2913\n"
     ]
    }
   ],
   "source": [
    "gameID = 0\n",
    "sumIDs = 0\n",
    "for game in lines: \n",
    "    gameID = gameID + 1\n",
    "    localFlag = checkGame(game)\n",
    "    if localFlag: \n",
    "        sumIDs = sumIDs + gameID\n",
    "\n",
    "print(sumIDs)"
   ]
  },
  {
   "cell_type": "markdown",
   "metadata": {},
   "source": [
    "## Part Two \n",
    "For Part two, I just need to calculate the maximums of each cube color for each game (already done) and multiply them togther and then add the final results"
   ]
  },
  {
   "cell_type": "code",
   "execution_count": 47,
   "metadata": {},
   "outputs": [],
   "source": [
    "def calcPower(game): \n",
    "    power = 1\n",
    "    localMax = readLine(game)\n",
    "    for key in localMax: \n",
    "        power = power * localMax[key]\n",
    "    return power "
   ]
  },
  {
   "cell_type": "code",
   "execution_count": 49,
   "metadata": {},
   "outputs": [
    {
     "name": "stdout",
     "output_type": "stream",
     "text": [
      "55593\n"
     ]
    }
   ],
   "source": [
    "# Driver code \n",
    "sumPower = 0\n",
    "for game in lines: \n",
    "    power = calcPower(game)\n",
    "    sumPower = sumPower + power\n",
    "\n",
    "print(sumPower)"
   ]
  }
 ],
 "metadata": {
  "kernelspec": {
   "display_name": "Python 3",
   "language": "python",
   "name": "python3"
  },
  "language_info": {
   "codemirror_mode": {
    "name": "ipython",
    "version": 3
   },
   "file_extension": ".py",
   "mimetype": "text/x-python",
   "name": "python",
   "nbconvert_exporter": "python",
   "pygments_lexer": "ipython3",
   "version": "3.10.13"
  }
 },
 "nbformat": 4,
 "nbformat_minor": 2
}
